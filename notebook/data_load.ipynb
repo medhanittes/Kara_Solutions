{
 "cells": [
  {
   "cell_type": "code",
   "execution_count": null,
   "metadata": {},
   "outputs": [],
   "source": [
    "import pandas as pd\n",
    "from sqlalchemy import create_engine"
   ]
  },
  {
   "cell_type": "code",
   "execution_count": null,
   "metadata": {},
   "outputs": [],
   "source": [
    "\n",
    "# Database connection details\n",
    "user = 'postgres'\n",
    "password = '.'\n",
    "host = 'localhost'\n",
    "port = '5432'\n",
    "database = 'medical'\n",
    "\n",
    "# Create connection string\n",
    "connection_string = f'postgresql://{user}:{password}@{host}:{port}/{database}'\n",
    "engine = create_engine(connection_string)\n",
    "\n",
    "# Load CSV data into DataFrame\n",
    "df = pd.read_csv('D:/Week7/notebook/data/clean_data.csv')\n",
    "\n",
    "# Load DataFrame into PostgreSQL table\n",
    "df.to_sql('medical_telegram', engine, if_exists='append', index=False)"
   ]
  }
 ],
 "metadata": {
  "kernelspec": {
   "display_name": "myvenv",
   "language": "python",
   "name": "python3"
  },
  "language_info": {
   "name": "python",
   "version": "3.12.5"
  }
 },
 "nbformat": 4,
 "nbformat_minor": 2
}
