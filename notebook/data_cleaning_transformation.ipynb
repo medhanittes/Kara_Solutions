{
 "cells": [
  {
   "cell_type": "code",
   "execution_count": 4,
   "metadata": {},
   "outputs": [],
   "source": [
    "import pandas as pd"
   ]
  },
  {
   "cell_type": "markdown",
   "metadata": {},
   "source": [
    " Removing Duplicates"
   ]
  },
  {
   "cell_type": "code",
   "execution_count": 5,
   "metadata": {},
   "outputs": [
    {
     "name": "stdout",
     "output_type": "stream",
     "text": [
      "Cleaning process completed. Cleaned data saved to 'D:/Week7/notebook/data/clean_data.csv'.\n",
      "Rows removed: 952 duplicates and 1 nulls.\n"
     ]
    }
   ],
   "source": [
    "import pandas as pd\n",
    "\n",
    "def clean_data(input_file, output_file, delimiter=','):\n",
    "    # Step 1: Load the data\n",
    "    data = pd.read_csv(input_file, delimiter=delimiter)\n",
    "\n",
    "    # Step 2: Remove duplicates based on the 'Message' column\n",
    "    initial_count = len(data)\n",
    "    data = data.drop_duplicates(subset='Message')\n",
    "    duplicates_removed = initial_count - len(data)\n",
    "\n",
    "    # Step 3: Remove rows where 'Message' is null\n",
    "    initial_count = len(data)\n",
    "    data = data[data['Message'].notna()]\n",
    "    nulls_removed = initial_count - len(data)\n",
    "\n",
    "    # Step 4: Check if the cleaned DataFrame is empty\n",
    "    if data.empty:\n",
    "        print(\"No valid data found after cleaning. The cleaned file will be empty.\")\n",
    "    else:\n",
    "        # Step 5: Save the cleaned data to a new CSV file\n",
    "        data.to_csv(output_file, index=False)\n",
    "        print(f\"Cleaning process completed. Cleaned data saved to '{output_file}'.\")\n",
    "        print(f\"Rows removed: {duplicates_removed} duplicates and {nulls_removed} nulls.\")\n",
    "\n",
    "# Define input and output file paths\n",
    "input_file = 'D:/Week7/notebook/data/data.csv'       # Correct path to your input file\n",
    "output_file = 'D:/Week7/notebook/data/clean_data.csv' # Correct path for the output file\n",
    "\n",
    "# Call the clean_data function\n",
    "clean_data(input_file, output_file)"
   ]
  }
 ],
 "metadata": {
  "kernelspec": {
   "display_name": "myvenv",
   "language": "python",
   "name": "python3"
  },
  "language_info": {
   "codemirror_mode": {
    "name": "ipython",
    "version": 3
   },
   "file_extension": ".py",
   "mimetype": "text/x-python",
   "name": "python",
   "nbconvert_exporter": "python",
   "pygments_lexer": "ipython3",
   "version": "3.12.5"
  }
 },
 "nbformat": 4,
 "nbformat_minor": 2
}
